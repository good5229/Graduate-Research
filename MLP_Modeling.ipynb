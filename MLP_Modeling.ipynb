{
  "cells": [
    {
      "cell_type": "code",
      "execution_count": null,
      "metadata": {
        "id": "A6b9EwDsNEwc",
        "colab": {
          "base_uri": "https://localhost:8080/"
        },
        "outputId": "e4e04187-b1bc-48a0-f5f3-96916517e998"
      },
      "outputs": [
        {
          "output_type": "stream",
          "name": "stdout",
          "text": [
            "Mounted at /content/drive\n",
            "/content/drive/MyDrive/Cleansed_and_removed\n",
            "/content/drive/MyDrive/Cleansed_and_removed\n"
          ]
        }
      ],
      "source": [
        "import numpy as np\n",
        "from numpy import mean\n",
        "from numpy import std\n",
        "from numpy import dstack\n",
        "import pandas as pd\n",
        "import datetime\n",
        "import warnings\n",
        "warnings.filterwarnings('ignore')\n",
        "import torch\n",
        "import torchvision\n",
        "\n",
        "from torch.utils.data import DataLoader, Dataset\n",
        "import torchvision.models as models\n",
        "import torchvision.transforms as T\n",
        "from torchvision.utils import make_grid\n",
        "from torchvision.datasets import ImageFolder\n",
        "from torch.utils.data import RandomSampler\n",
        "from sklearn.metrics import classification_report, accuracy_score\n",
        "\n",
        "import torch.nn as nn\n",
        "import torch.nn.functional as F\n",
        "import torch.optim as optim\n",
        "\n",
        "import matplotlib.pyplot as plt\n",
        "from sklearn.metrics import confusion_matrix, plot_confusion_matrix\n",
        "from sklearn.metrics import mean_squared_error, mean_absolute_error, mean_absolute_percentage_error\n",
        "from sklearn.model_selection import StratifiedShuffleSplit\n",
        "\n",
        "import cv2\n",
        "import time\n",
        "import itertools\n",
        "import os\n",
        "import random\n",
        "\n",
        "from PIL import Image\n",
        "\n",
        "device = 'cuda' if torch.cuda.is_available() else 'cpu'\n",
        "\n",
        "from google.colab import drive\n",
        "drive.mount('/content/drive')\n",
        "\n",
        "%cd /content/drive/MyDrive/Cleansed_and_removed/\n",
        "\n",
        "#경로 확인\n",
        "!pwd\n",
        "\n"
      ]
    },
    {
      "cell_type": "code",
      "execution_count": null,
      "metadata": {
        "id": "vsPWFEoFPOp1",
        "colab": {
          "base_uri": "https://localhost:8080/"
        },
        "outputId": "283451ba-3f13-4e73-96a5-5b467739716b"
      },
      "outputs": [
        {
          "output_type": "stream",
          "name": "stdout",
          "text": [
            "18282 2584\n"
          ]
        },
        {
          "output_type": "execute_result",
          "data": {
            "text/plain": [
              "<bound method NDFrame.describe of 2464      6000000\n",
              "9045      2100000\n",
              "9044       750000\n",
              "8345      3500000\n",
              "4614      6000000\n",
              "           ...   \n",
              "9039       500000\n",
              "2066       800000\n",
              "16799      400000\n",
              "9553     25000000\n",
              "5268       300000\n",
              "Name: price, Length: 15959, dtype: int64>"
            ]
          },
          "metadata": {},
          "execution_count": 3
        }
      ],
      "source": [
        "def time_series():\n",
        "    df_train = pd.read_csv('./df_train.csv')\n",
        "    df_test= pd.read_csv('./df_test.csv')\n",
        "    print(len(df_train), len(df_test))\n",
        "    df_train = df_train[df_train['price']<1e+8]\n",
        "    df_test = df_test[df_test['price']<1e+8]\n",
        "    df_timeseries = pd.concat([df_test, df_train])\n",
        "\n",
        "    df_timeseries = df_timeseries.sort_values(by='date', ascending = False)\n",
        "    timeseries_idx = int(len(df_timeseries)*0.2)\n",
        "\n",
        "    df_train = df_timeseries.iloc[timeseries_idx:]\n",
        "    df_test = df_timeseries.iloc[:timeseries_idx]\n",
        "\n",
        "    return df_train, df_test"
      ]
    },
    {
      "cell_type": "markdown",
      "metadata": {
        "id": "r2cyYSs3khG5"
      },
      "source": [
        "## Define Feature_list"
      ]
    },
    {
      "cell_type": "code",
      "execution_count": null,
      "metadata": {
        "id": "X5miaeBWcoYu"
      },
      "outputs": [],
      "source": [
        "all_features = ['year', 'area', 'online', 'base_charcoal', 'base_paper', 'base_fiber', 'base_canvas', 'base_hardboard', 'base_hanji', 'base_ceramic', 'base_terracotta', 'base_masonite', 'base_wood', 'base_leaf', \n",
        "            'base_silverpaper', 'base_metal', 'mate_gouache', 'mate_maca', 'mate_magic', 'mate_signpen', 'mate_colorpencil', 'mate_korean_ink', 'mate_korean_ink_and_color', 'mate_watercolor', 'mate_pencil', \n",
        "            'mate_oil_and_color', 'mate_ink', 'mate_color', 'mate_pen', 'mate_mixture', 'mate_pigment', 'mate_graphite', 'mate_acrylic', 'mate_conte', 'mate_collage', 'mate_engrave', 'mate_crayon', 'mate_enamel', \n",
        "            'mate_oilpastel', 'award', 'exhbn_solo', 'exhbn_group', 'era', 'is_death', 'predict_price', 'previous_sell_count', 'elapsed', 'height', 'width', 'author_age', 'GDP', 'CDS', 'Housing', 'KOSPI_100', \n",
        "            'MSCI Emerging', 'MSCI World', '1y_Bond_yield', 'S&P 500 VIX', 'Gold', 'OBFR', 'CSI', 'Inflation', 'pre_month_value', 'pre_month_count', 'pre_month_author_value', 'pre_month_author_count', 'pre_quarter_value', \n",
        "            'pre_quarter_count', 'pre_qt_author_value', 'pre_qt_author_count', 'pre_half_value', 'pre_half_count', 'pre_half_author_value', 'pre_half_author_count', 'pre_year_value', 'pre_year_count', 'pre_year_author_value', \n",
        "            'pre_year_author_count', 'news', 'KOSPI_100_growth', 'KOSPI_100_30_avg', 'MSCI_emerging_growth', 'MSCI_emerging_avg', 'MSCI_world_growth', 'MSCI_world_avg', 'One_year_bond_growth', 'One_year_bond_avg', 'VIX_growth', \n",
        "            'VIX_avg', 'Gold_growth', 'Gold_avg', 'KOSPI_100_MA20', 'KOSPI_100_90_growth', 'KOSPI_100_MA90', 'KOSPI_100_180_growth', 'KOSPI_100_MA180', 'KOSPI_100_365_growth', 'KOSPI_100_MA365', 'MSCI_emerging_MA20', 'MSCI_emerging_90_growth', \n",
        "            'MSCI_emerging_MA90', 'MSCI_emerging_180_growth', 'MSCI_emerging_MA180', 'MSCI_emerging_365_growth', 'MSCI_emerging_MA365', 'MSCI_world_MA20', 'MSCI_world_90_growth', 'MSCI_world_MA90', 'MSCI_world_180_growth', 'MSCI_world_MA180', \n",
        "            'MSCI_world_365_growth', 'MSCI_world_MA365', 'One_year_bond_MA20', 'One_year_bond_90_growth', 'One_year_bond_MA90', 'One_year_bond_180_growth', 'One_year_bond_MA180', 'One_year_bond_365_growth', 'One_year_bond_MA365', 'VIX_MA20', \n",
        "            'VIX_90_growth', 'VIX_MA90', 'VIX_180_growth', 'VIX_MA180', 'VIX_365_growth', 'VIX_MA365', 'Gold_MA20', 'Gold_90_growth', 'Gold_MA90', 'Gold_180_growth', 'Gold_MA180', 'Gold_365_growth', 'Gold_MA365', 'KOSPI_100_momentum', 'KOSPI_100_RSI', \n",
        "            'KOSPI_100_MACD', 'MSCI_emerging_momentum', 'MSCI_emerging_RSI', 'MSCI_emerging_MACD', 'MSCI_world_momentum', 'MSCI_world_RSI', 'MSCI_world_MACD', 'One_year_bond_momentum', 'One_year_bond_RSI', 'One_year_bond_MACD', 'Gold_momentum', \n",
        "            'Gold_RSI', 'Gold_MACD', 'VIX_momentum', 'VIX_RSI', 'VIX_MACD', 'trend_art_auction', 'trend_art_auction_company', 'trend_art_rental', 'trend_change_value', 'trend_change_count', 'trend_ratio_value', 'trend_ratio_count', 'feature_0', 'feature_1', 'feature_2', 'feature_3', \n",
        "            'feature_4', 'feature_5', 'feature_6', 'feature_7', 'feature_8', 'feature_9',  'genre_0', 'genre_1', 'genre_2', 'genre_3', 'genre_4', 'genre_5', 'genre_6', 'genre_7', 'genre_9', 'source_0', 'source_1', 'source_2', 'source_3', 'source_4', 'source_5', 'source_6', 'source_7',]\n",
        "\n",
        "img_features = ['feature_0', 'feature_1', 'feature_2', 'feature_3', 'feature_4', 'feature_5', 'feature_6', 'feature_7', 'feature_8', 'feature_9']\n",
        "\n",
        "art_feature = ['year', 'area', 'online', 'base_charcoal', 'base_paper', 'base_fiber', 'base_canvas', 'base_hardboard', 'base_hanji', 'base_ceramic', 'base_terracotta', 'base_masonite', 'base_wood', 'base_leaf', \n",
        "            'base_silverpaper', 'base_metal', 'mate_gouache', 'mate_maca', 'mate_magic', 'mate_signpen', 'mate_colorpencil', 'mate_korean_ink', 'mate_korean_ink_and_color', 'mate_watercolor', 'mate_pencil',\n",
        "            'mate_oil_and_color', 'mate_ink', 'mate_color', 'mate_pen', 'mate_mixture', 'mate_pigment', 'mate_graphite', 'mate_acrylic', 'mate_conte', 'mate_collage', 'mate_engrave', 'mate_crayon', 'mate_enamel', \n",
        "            'mate_oilpastel', 'award', 'exhbn_solo', 'exhbn_group', 'era', 'is_death',  'elapsed', 'height', 'width', 'author_age',    'genre_0', 'genre_1', 'genre_2', 'genre_3', 'genre_4', 'genre_5', 'genre_6', 'genre_7', 'genre_9', 'source_0', 'source_1', 'source_2', 'source_3', 'source_4', 'source_5', 'source_6', 'source_7',]\n",
        "\n",
        "economic_feature = ['GDP', 'CDS', 'Housing', 'KOSPI_100', 'MSCI Emerging', 'MSCI World', '1y_Bond_yield', 'S&P 500 VIX', 'Gold', 'OBFR', 'CSI', 'Inflation',\n",
        "                    'KOSPI_100_growth', 'KOSPI_100_30_avg', 'MSCI_emerging_growth', 'MSCI_emerging_avg', 'MSCI_world_growth', 'MSCI_world_avg', 'One_year_bond_growth', 'One_year_bond_avg', 'VIX_growth', \n",
        "            'VIX_avg', 'Gold_growth', 'Gold_avg', 'KOSPI_100_MA20', 'KOSPI_100_90_growth', 'KOSPI_100_MA90', 'KOSPI_100_180_growth', 'KOSPI_100_MA180', 'KOSPI_100_365_growth', 'KOSPI_100_MA365', 'MSCI_emerging_MA20', 'MSCI_emerging_90_growth', \n",
        "            'MSCI_emerging_MA90', 'MSCI_emerging_180_growth', 'MSCI_emerging_MA180', 'MSCI_emerging_365_growth', 'MSCI_emerging_MA365', 'MSCI_world_MA20', 'MSCI_world_90_growth', 'MSCI_world_MA90', 'MSCI_world_180_growth', 'MSCI_world_MA180', \n",
        "            'MSCI_world_365_growth', 'MSCI_world_MA365', 'One_year_bond_MA20', 'One_year_bond_90_growth', 'One_year_bond_MA90', 'One_year_bond_180_growth', 'One_year_bond_MA180', 'One_year_bond_365_growth', 'One_year_bond_MA365', 'VIX_MA20', \n",
        "            'VIX_90_growth', 'VIX_MA90', 'VIX_180_growth', 'VIX_MA180', 'VIX_365_growth', 'VIX_MA365', 'Gold_MA20', 'Gold_90_growth', 'Gold_MA90', 'Gold_180_growth', 'Gold_MA180', 'Gold_365_growth', 'Gold_MA365', 'KOSPI_100_momentum', 'KOSPI_100_RSI', \n",
        "            'KOSPI_100_MACD', 'MSCI_emerging_momentum', 'MSCI_emerging_RSI', 'MSCI_emerging_MACD', 'MSCI_world_momentum', 'MSCI_world_RSI', 'MSCI_world_MACD', 'One_year_bond_momentum', 'One_year_bond_RSI', 'One_year_bond_MACD', 'Gold_momentum', \n",
        "            'Gold_RSI', 'Gold_MACD', 'VIX_momentum', 'VIX_RSI', 'VIX_MACD'\n",
        "]\n",
        "\n",
        "trend_feature = ['predict_price', 'previous_sell_count','pre_month_value', 'pre_month_count', 'pre_month_author_value', 'pre_month_author_count', 'pre_quarter_value', \n",
        "            'pre_quarter_count', 'pre_qt_author_value', 'pre_qt_author_count', 'pre_half_value', 'pre_half_count', 'pre_half_author_value', 'pre_half_author_count', 'pre_year_value', 'pre_year_count', 'pre_year_author_value', \n",
        "            'pre_year_author_count', 'news',  'trend_art_auction', 'trend_art_auction_company', 'trend_art_rental', 'trend_change_value', 'trend_change_count', 'trend_ratio_value', 'trend_ratio_count'\n",
        "]\n",
        "\n",
        "\n",
        "feature_list=[art_feature, art_feature+economic_feature, art_feature+trend_feature, art_feature+img_features, art_feature+economic_feature+trend_feature, img_features, all_features]"
      ]
    },
    {
      "cell_type": "markdown",
      "source": [],
      "metadata": {
        "id": "BAsymS6s9ztW"
      }
    },
    {
      "cell_type": "code",
      "execution_count": null,
      "metadata": {
        "id": "KlCIm2ahuvK-",
        "colab": {
          "base_uri": "https://localhost:8080/"
        },
        "outputId": "c81724cb-7210-49ed-cc18-5a33f5c45c40"
      },
      "outputs": [
        {
          "output_type": "stream",
          "name": "stdout",
          "text": [
            "18282 2584\n",
            "['year', 'area', 'online', 'base_paper', 'base_canvas', 'mate_korean_ink', 'mate_oil_and_color', 'mate_mixture', 'mate_acrylic', 'exhbn_solo', 'exhbn_group', 'era', 'elapsed', 'height', 'width', 'genre_0', 'genre_1', 'source_1', 'source_3', 'source_5']\n",
            "['Housing', '1y_Bond_yield', 'Gold', 'Inflation', 'Gold_avg', 'One_year_bond_MA90', 'VIX_MA20', 'VIX_MA90', 'VIX_MA180', 'VIX_MA365', 'Gold_MA20', 'Gold_MA90', 'Gold_MA180', 'Gold_MA365', 'KOSPI_100_RSI', 'MSCI_emerging_RSI', 'MSCI_world_RSI', 'One_year_bond_RSI', 'Gold_RSI', 'VIX_RSI']\n",
            "['predict_price', 'previous_sell_count', 'pre_month_author_value', 'pre_month_author_count', 'pre_quarter_value', 'pre_quarter_count', 'pre_qt_author_value', 'pre_qt_author_count', 'pre_half_count', 'pre_half_author_value', 'pre_half_author_count', 'pre_year_value', 'pre_year_author_value', 'pre_year_author_count', 'trend_art_auction', 'trend_art_auction_company', 'trend_art_rental', 'trend_change_value', 'trend_change_count', 'trend_ratio_count']\n"
          ]
        }
      ],
      "source": [
        "from sklearn.feature_selection import SelectKBest\n",
        "from sklearn.feature_selection import f_regression, mutual_info_regression, RFE\n",
        "\n",
        "##### 시계열 데이터의 경우 #######\n",
        "df_train, df_test = time_series()\n",
        "\n",
        "#### 층화추출의 경우 ##### \n",
        "# df_train = df_train_strt.copy()\n",
        "# df_test = df_test_strt.copy()\n",
        "\n",
        "x_art = df_train[art_feature]\n",
        "x_economics = df_train[economic_feature]\n",
        "x_trend = df_train[trend_feature]\n",
        "\n",
        "y = np.log10(df_train['price']+1)\n",
        "\n",
        "def feature_selections(df):\n",
        "    selector = SelectKBest(f_regression, k=20)\n",
        "    selector.fit(df, y)\n",
        "    cols = selector.get_support(indices=True)\n",
        "    features_df_new = df.iloc[:, cols]\n",
        "    new_cols = features_df_new.columns\n",
        "    return list(new_cols)\n",
        "\n",
        "art_cols = feature_selections(x_art)\n",
        "eco_cols = feature_selections(x_economics)\n",
        "trend_cols = feature_selections(x_trend)\n",
        "\n",
        "feature_list = [art_cols, art_cols+eco_cols, art_cols+trend_cols, art_cols+eco_cols+trend_cols, art_cols+eco_cols+trend_cols+img_features]\n",
        "print(art_cols)\n",
        "print(eco_cols)\n",
        "print(trend_cols)"
      ]
    },
    {
      "cell_type": "code",
      "execution_count": null,
      "metadata": {
        "id": "CFSQVzFmaI93"
      },
      "outputs": [],
      "source": []
    },
    {
      "cell_type": "code",
      "execution_count": null,
      "metadata": {
        "id": "zoCIsu2728uu",
        "colab": {
          "base_uri": "https://localhost:8080/"
        },
        "outputId": "ef1681a1-536a-4f1c-a2d8-d2ebc4b3378a"
      },
      "outputs": [
        {
          "output_type": "stream",
          "name": "stdout",
          "text": [
            "3000 3667 3543 3559 3755 2424\n"
          ]
        }
      ],
      "source": [
        "df_train = pd.read_csv('./df_train.csv')\n",
        "df_test= pd.read_csv('./df_test.csv')\n",
        "df_train = df_train[df_train['price']<1e+8]\n",
        "df_test = df_test[df_test['price']<1e+8]\n",
        "\n",
        "df = pd.concat([df_train, df_test], ignore_index=True).reset_index()\n",
        "\n",
        "df_2016 = df[df['date'].between('2016-01-01','2017-01-01')]\n",
        "df_2017 = df[df['date'].between('2017-01-01','2018-01-01')]\n",
        "df_2018 = df[df['date'].between('2018-01-01','2019-01-01')]\n",
        "df_2019 = df[df['date'].between('2019-01-01','2020-01-01')]\n",
        "df_2020 = df[df['date'].between('2020-01-01','2021-01-01')]\n",
        "df_2021 = df[df['date'].between('2021-01-01','2022-01-01')]\n",
        "print(len(df_2016), len(df_2017), len(df_2018), len(df_2019), len(df_2020), len(df_2021))\n",
        "\n",
        "df_2016_count = dict(df_2016['author'].value_counts())\n",
        "df_2017_count = dict(df_2017['author'].value_counts())\n",
        "df_2018_count = dict(df_2018['author'].value_counts())\n",
        "df_2019_count = dict(df_2019['author'].value_counts())\n",
        "df_2020_count = dict(df_2020['author'].value_counts())\n",
        "df_2021_count = dict(df_2021['author'].value_counts())\n",
        "\n",
        "dict_count = {'2016':df_2016_count, '2017':df_2017_count, '2018':df_2018_count, '2019':df_2019_count, '2020':df_2020_count, '2021':df_2021_count}\n",
        "\n",
        "# df_2016 = pd.DataFrame.from_dict(df_2016_count)\n",
        "# df_2016.fillna(0, inplace=True)\n",
        "\n",
        "# df_2017 = pd.DataFrame.from_dict(df_2017_count)\n",
        "# df_2017.fillna(0, inplace=True)\n",
        "\n",
        "# df_2018 = pd.DataFrame.from_dict(df_2018_count)\n",
        "# df_2018.fillna(0, inplace=True)\n",
        "\n",
        "# df_2019 = pd.DataFrame.from_dict(df_2019_count)\n",
        "# df_2019.fillna(0, inplace=True)\n",
        "\n",
        "# df_2020 = pd.DataFrame.from_dict(df_2020_count)\n",
        "# df_2020.fillna(0, inplace=True)\n",
        "\n",
        "# df_2021 = pd.DataFrame.from_dict(df_2021_count)\n",
        "# df_2021.fillna(0, inplace=True)\n",
        "\n",
        "df_total_count = pd.DataFrame.from_dict(dict_count)\n",
        "df_total_count.fillna(0, inplace=True)\n",
        "\n",
        "# df_total_count.to_csv('./author_count.csv')"
      ]
    },
    {
      "cell_type": "code",
      "execution_count": null,
      "metadata": {
        "id": "W5N45v6g6HYv",
        "colab": {
          "base_uri": "https://localhost:8080/"
        },
        "outputId": "676328d3-606a-418f-8c94-9e5730d6568d"
      },
      "outputs": [
        {
          "output_type": "stream",
          "name": "stdout",
          "text": [
            "15929\n",
            "3987\n"
          ]
        }
      ],
      "source": [
        "# TODO\n",
        "# 층화추출 전략 세우기(0개일 때, 1개일 때, 2개 이상일 때)\n",
        "# feature_list 변수 추가해서 실험 진행할 때마다 log 남길 수 있게 코드 수정하기\n",
        "# 실험 진행\n",
        "splitter=StratifiedShuffleSplit(n_splits=1, test_size=0.2, random_state=42)\n",
        "\n",
        "df_train_strt = pd.DataFrame()\n",
        "df_test_strt = pd.DataFrame()\n",
        "year_df_list = [df_2016, df_2017, df_2018, df_2019, df_2020, df_2021]\n",
        "for df in year_df_list:\n",
        "\n",
        "    for idx in df_total_count.index:\n",
        "        if len(df[df['author']==idx])<2:\n",
        "            df = df.drop(df[df['author']==idx].index)\n",
        "    X = df\n",
        "    y = df['author']\n",
        "\n",
        "    for train_idx, test_idx in splitter.split(df, df['author']):\n",
        "        train = df.iloc[train_idx]\n",
        "        test = df.iloc[test_idx]\n",
        "    if len(df_train_strt)<1:\n",
        "        df_train_strt = train\n",
        "        df_test_strt = test\n",
        "    else:\n",
        "        df_train_strt = pd.concat([df_train_strt, train])\n",
        "        df_test_strt = pd.concat([df_test_strt, test])\n",
        "\n",
        "print(len(df_train_strt))\n",
        "print(len(df_test_strt))"
      ]
    },
    {
      "cell_type": "code",
      "execution_count": null,
      "metadata": {
        "id": "BTm8FeHy0iqN",
        "colab": {
          "base_uri": "https://localhost:8080/",
          "height": 283
        },
        "outputId": "a202a2f7-4231-4806-8790-a75b634dc01f"
      },
      "outputs": [
        {
          "output_type": "execute_result",
          "data": {
            "text/plain": [
              "<matplotlib.axes._subplots.AxesSubplot at 0x7ff282689700>"
            ]
          },
          "metadata": {},
          "execution_count": 6
        },
        {
          "output_type": "display_data",
          "data": {
            "text/plain": [
              "<Figure size 432x288 with 1 Axes>"
            ],
            "image/png": "[encoded data removed]"
          },
          "metadata": {
            "needs_background": "light"
          }
        }
      ],
      "source": [
        "np.log10(df_train['price']).hist()"
      ]
    },
    {
      "cell_type": "code",
      "source": [
        "np.log10(df_test['price']).hist()"
      ],
      "metadata": {
        "colab": {
          "base_uri": "https://localhost:8080/",
          "height": 283
        },
        "id": "EJJUAh5fnY9P",
        "outputId": "700646a6-4a81-4b10-c11c-25ccd7eb0942"
      },
      "execution_count": null,
      "outputs": [
        {
          "output_type": "execute_result",
          "data": {
            "text/plain": [
              "<matplotlib.axes._subplots.AxesSubplot at 0x7ff2823dbe20>"
            ]
          },
          "metadata": {},
          "execution_count": 7
        },
        {
          "output_type": "display_data",
          "data": {
            "text/plain": [
              "<Figure size 432x288 with 1 Axes>"
            ],
            "image/png": "[encoded data removed]"
          },
          "metadata": {
            "needs_background": "light"
          }
        }
      ]
    },
    {
      "cell_type": "code",
      "execution_count": null,
      "metadata": {
        "id": "z4GSwindCLm8",
        "colab": {
          "base_uri": "https://localhost:8080/",
          "height": 35
        },
        "outputId": "3f47ee5a-1728-4248-91f4-15904ef80dae"
      },
      "outputs": [
        {
          "output_type": "execute_result",
          "data": {
            "text/plain": [
              "'20221212-10543'"
            ],
            "application/vnd.google.colaboratory.intrinsic+json": {
              "type": "string"
            }
          },
          "metadata": {},
          "execution_count": 21
        }
      ],
      "source": [
        "import datetime as dt\n",
        "x = dt.datetime.now()\n",
        "today = f'{x.year}{x.month}{x.day}-{x.hour}{x.minute}{x.second}'\n",
        "today"
      ]
    },
    {
      "cell_type": "code",
      "execution_count": null,
      "metadata": {
        "id": "V_P8HpM6sZFv",
        "colab": {
          "base_uri": "https://localhost:8080/",
          "height": 1000
        },
        "outputId": "fa327866-de1d-4047-bbcd-83f825433da9"
      },
      "outputs": [
        {
          "output_type": "stream",
          "name": "stdout",
          "text": [
            "Early Stopping : 36\n"
          ]
        },
        {
          "output_type": "display_data",
          "data": {
            "text/plain": [
              "<Figure size 432x288 with 1 Axes>"
            ],
            "image/png": "[encoded data removed]"
          },
          "metadata": {
            "needs_background": "light"
          }
        },
        {
          "output_type": "stream",
          "name": "stdout",
          "text": [
            "####0##### : 261.4589383914327, 260.3359751756852, 7.929159030561199\n",
            "####1##### : 223.3911672863547, 180.48320812577833, 0.8343080978502798\n",
            "####2##### : 3714.050430589785, 3005.6864294791667, 0.8616884130224912\n",
            "                     Data    epoch learning rate batch size dropout  \\\n",
            "1                 ALL_sel  36/1000          0.01        128     0.2   \n",
            "2  ALL_sel_regression_PC1  36/1000          0.01        128     0.2   \n",
            "3  ALL_sel_regression_PC2  36/1000          0.01        128     0.2   \n",
            "4  ALL_sel_regression_PC3  36/1000          0.01        128     0.2   \n",
            "\n",
            "          RMSE          MAE      MAPE  \n",
            "1     1831.894     886.9032  3.349407  \n",
            "2   261.458938   260.335975  7.929159  \n",
            "3   223.391167   180.483208  0.834308  \n",
            "4  3714.050431  3005.686429  0.861688  \n",
            "---------------------------------------------------------\n",
            "Early Stopping : 87\n"
          ]
        },
        {
          "output_type": "display_data",
          "data": {
            "text/plain": [
              "<Figure size 432x288 with 1 Axes>"
            ],
            "image/png": "[encoded data removed]"
          },
          "metadata": {
            "needs_background": "light"
          }
        },
        {
          "output_type": "stream",
          "name": "stdout",
          "text": [
            "####0##### : 145.4068330630061, 143.47454073033708, 4.577020416041784\n",
            "####1##### : 248.9241066754196, 164.5267696139477, 0.4806159280281844\n",
            "####2##### : 3811.045153055007, 3124.3111803962465, 0.9135739242751438\n",
            "                                Data    epoch learning rate batch size  \\\n",
            "1                            ALL_sel  36/1000          0.01        128   \n",
            "2             ALL_sel_regression_PC1  36/1000          0.01        128   \n",
            "3             ALL_sel_regression_PC2  36/1000          0.01        128   \n",
            "4             ALL_sel_regression_PC3  36/1000          0.01        128   \n",
            "5                 Art+Ecnonomics_sel  87/1000          0.01        128   \n",
            "6  Art+Ecnonomics_sel_regression_PC1  87/1000          0.01        128   \n",
            "7  Art+Ecnonomics_sel_regression_PC2  87/1000          0.01        128   \n",
            "8  Art+Ecnonomics_sel_regression_PC3  87/1000          0.01        128   \n",
            "\n",
            "  dropout         RMSE          MAE      MAPE  \n",
            "1     0.2     1831.894     886.9032  3.349407  \n",
            "2     0.2   261.458938   260.335975  7.929159  \n",
            "3     0.2   223.391167   180.483208  0.834308  \n",
            "4     0.2  3714.050431  3005.686429  0.861688  \n",
            "5     0.2    1877.2964     868.5766  2.047034  \n",
            "6     0.2   145.406833   143.474541   4.57702  \n",
            "7     0.2   248.924107    164.52677  0.480616  \n",
            "8     0.2  3811.045153   3124.31118  0.913574  \n",
            "---------------------------------------------------------\n",
            "Early Stopping : 24\n"
          ]
        },
        {
          "output_type": "display_data",
          "data": {
            "text/plain": [
              "<Figure size 432x288 with 1 Axes>"
            ],
            "image/png": "[encoded data removed]"
          },
          "metadata": {
            "needs_background": "light"
          }
        },
        {
          "output_type": "stream",
          "name": "stdout",
          "text": [
            "####0##### : 19344414.753725007, 567036.3064357695, 8719.120006483068\n",
            "####1##### : 241624.02600138646, 10745.912018107478, 57.162986218860894\n",
            "####2##### : 681704.0975806743, 44560.34927010926, 11.761019372024702\n",
            "                                 Data    epoch learning rate batch size  \\\n",
            "1                             ALL_sel  36/1000          0.01        128   \n",
            "2              ALL_sel_regression_PC1  36/1000          0.01        128   \n",
            "3              ALL_sel_regression_PC2  36/1000          0.01        128   \n",
            "4              ALL_sel_regression_PC3  36/1000          0.01        128   \n",
            "5                  Art+Ecnonomics_sel  87/1000          0.01        128   \n",
            "6   Art+Ecnonomics_sel_regression_PC1  87/1000          0.01        128   \n",
            "7   Art+Ecnonomics_sel_regression_PC2  87/1000          0.01        128   \n",
            "8   Art+Ecnonomics_sel_regression_PC3  87/1000          0.01        128   \n",
            "9                       Art+Trend_sel  24/1000          0.01        128   \n",
            "10       Art+Trend_sel_regression_PC1  24/1000          0.01        128   \n",
            "11       Art+Trend_sel_regression_PC2  24/1000          0.01        128   \n",
            "12       Art+Trend_sel_regression_PC3  24/1000          0.01        128   \n",
            "\n",
            "   dropout             RMSE            MAE         MAPE  \n",
            "1      0.2         1831.894       886.9032     3.349407  \n",
            "2      0.2       261.458938     260.335975     7.929159  \n",
            "3      0.2       223.391167     180.483208     0.834308  \n",
            "4      0.2      3714.050431    3005.686429     0.861688  \n",
            "5      0.2        1877.2964       868.5766     2.047034  \n",
            "6      0.2       145.406833     143.474541      4.57702  \n",
            "7      0.2       248.924107      164.52677     0.480616  \n",
            "8      0.2      3811.045153     3124.31118     0.913574  \n",
            "9      0.2     11559694.336    217345.2032  3113.252197  \n",
            "10     0.2  19344414.753725  567036.306436  8719.120006  \n",
            "11     0.2    241624.026001   10745.912018    57.162986  \n",
            "12     0.2    681704.097581    44560.34927    11.761019  \n",
            "---------------------------------------------------------\n",
            "Early Stopping : 69\n"
          ]
        },
        {
          "output_type": "display_data",
          "data": {
            "text/plain": [
              "<Figure size 432x288 with 1 Axes>"
            ],
            "image/png": "[encoded data removed]"
          },
          "metadata": {
            "needs_background": "light"
          }
        },
        {
          "output_type": "stream",
          "name": "stdout",
          "text": [
            "####0##### : 102.82732803819553, 100.07751679824563, 3.3310442904473576\n",
            "####1##### : 271.0170968092476, 173.7841507398754, 0.4233945427841347\n",
            "####2##### : 3846.694372869088, 3167.6983428962462, 0.9328607446540703\n",
            "                                      Data    epoch learning rate batch size  \\\n",
            "1                                  ALL_sel  36/1000          0.01        128   \n",
            "2                   ALL_sel_regression_PC1  36/1000          0.01        128   \n",
            "3                   ALL_sel_regression_PC2  36/1000          0.01        128   \n",
            "4                   ALL_sel_regression_PC3  36/1000          0.01        128   \n",
            "5                       Art+Ecnonomics_sel  87/1000          0.01        128   \n",
            "6        Art+Ecnonomics_sel_regression_PC1  87/1000          0.01        128   \n",
            "7        Art+Ecnonomics_sel_regression_PC2  87/1000          0.01        128   \n",
            "8        Art+Ecnonomics_sel_regression_PC3  87/1000          0.01        128   \n",
            "9                            Art+Trend_sel  24/1000          0.01        128   \n",
            "10            Art+Trend_sel_regression_PC1  24/1000          0.01        128   \n",
            "11            Art+Trend_sel_regression_PC2  24/1000          0.01        128   \n",
            "12            Art+Trend_sel_regression_PC3  24/1000          0.01        128   \n",
            "13                 Art+Economics+Trend_sel  69/1000          0.01        128   \n",
            "14  Art+Economics+Trend_sel_regression_PC1  69/1000          0.01        128   \n",
            "15  Art+Economics+Trend_sel_regression_PC2  69/1000          0.01        128   \n",
            "16  Art+Economics+Trend_sel_regression_PC3  69/1000          0.01        128   \n",
            "\n",
            "   dropout             RMSE            MAE         MAPE  \n",
            "1      0.2         1831.894       886.9032     3.349407  \n",
            "2      0.2       261.458938     260.335975     7.929159  \n",
            "3      0.2       223.391167     180.483208     0.834308  \n",
            "4      0.2      3714.050431    3005.686429     0.861688  \n",
            "5      0.2        1877.2964       868.5766     2.047034  \n",
            "6      0.2       145.406833     143.474541      4.57702  \n",
            "7      0.2       248.924107      164.52677     0.480616  \n",
            "8      0.2      3811.045153     3124.31118     0.913574  \n",
            "9      0.2     11559694.336    217345.2032  3113.252197  \n",
            "10     0.2  19344414.753725  567036.306436  8719.120006  \n",
            "11     0.2    241624.026001   10745.912018    57.162986  \n",
            "12     0.2    681704.097581    44560.34927    11.761019  \n",
            "13     0.2        1894.9162        867.224     1.584574  \n",
            "14     0.2       102.827328     100.077517     3.331044  \n",
            "15     0.2       271.017097     173.784151     0.423395  \n",
            "16     0.2      3846.694373    3167.698343     0.932861  \n",
            "---------------------------------------------------------\n",
            "Early Stopping : 98\n"
          ]
        },
        {
          "output_type": "display_data",
          "data": {
            "text/plain": [
              "<Figure size 432x288 with 1 Axes>"
            ],
            "image/png": "[encoded data removed]"
          },
          "metadata": {
            "needs_background": "light"
          }
        },
        {
          "output_type": "stream",
          "name": "stdout",
          "text": [
            "####0##### : 181.03078778011377, 179.48157250527055, 5.6107042576913875\n",
            "####1##### : 235.6637910137733, 165.11952020547946, 0.5703370583161004\n",
            "####2##### : 3779.6211463330596, 3086.297775, 0.8975312435524133\n",
            "                                      Data    epoch learning rate batch size  \\\n",
            "1                                  ALL_sel  36/1000          0.01        128   \n",
            "2                   ALL_sel_regression_PC1  36/1000          0.01        128   \n",
            "3                   ALL_sel_regression_PC2  36/1000          0.01        128   \n",
            "4                   ALL_sel_regression_PC3  36/1000          0.01        128   \n",
            "5                       Art+Ecnonomics_sel  87/1000          0.01        128   \n",
            "6        Art+Ecnonomics_sel_regression_PC1  87/1000          0.01        128   \n",
            "7        Art+Ecnonomics_sel_regression_PC2  87/1000          0.01        128   \n",
            "8        Art+Ecnonomics_sel_regression_PC3  87/1000          0.01        128   \n",
            "9                            Art+Trend_sel  24/1000          0.01        128   \n",
            "10            Art+Trend_sel_regression_PC1  24/1000          0.01        128   \n",
            "11            Art+Trend_sel_regression_PC2  24/1000          0.01        128   \n",
            "12            Art+Trend_sel_regression_PC3  24/1000          0.01        128   \n",
            "13                 Art+Economics+Trend_sel  69/1000          0.01        128   \n",
            "14  Art+Economics+Trend_sel_regression_PC1  69/1000          0.01        128   \n",
            "15  Art+Economics+Trend_sel_regression_PC2  69/1000          0.01        128   \n",
            "16  Art+Economics+Trend_sel_regression_PC3  69/1000          0.01        128   \n",
            "17                                 ALL_sel  98/1000          0.01        128   \n",
            "18                  ALL_sel_regression_PC1  98/1000          0.01        128   \n",
            "19                  ALL_sel_regression_PC2  98/1000          0.01        128   \n",
            "20                  ALL_sel_regression_PC3  98/1000          0.01        128   \n",
            "\n",
            "   dropout             RMSE            MAE         MAPE  \n",
            "1      0.2         1831.894       886.9032     3.349407  \n",
            "2      0.2       261.458938     260.335975     7.929159  \n",
            "3      0.2       223.391167     180.483208     0.834308  \n",
            "4      0.2      3714.050431    3005.686429     0.861688  \n",
            "5      0.2        1877.2964       868.5766     2.047034  \n",
            "6      0.2       145.406833     143.474541      4.57702  \n",
            "7      0.2       248.924107      164.52677     0.480616  \n",
            "8      0.2      3811.045153     3124.31118     0.913574  \n",
            "9      0.2     11559694.336    217345.2032  3113.252197  \n",
            "10     0.2  19344414.753725  567036.306436  8719.120006  \n",
            "11     0.2    241624.026001   10745.912018    57.162986  \n",
            "12     0.2    681704.097581    44560.34927    11.761019  \n",
            "13     0.2        1894.9162        867.224     1.584574  \n",
            "14     0.2       102.827328     100.077517     3.331044  \n",
            "15     0.2       271.017097     173.784151     0.423395  \n",
            "16     0.2      3846.694373    3167.698343     0.932861  \n",
            "17     0.2        1863.3394        873.259     2.447123  \n",
            "18     0.2       181.030788     179.481573     5.610704  \n",
            "19     0.2       235.663791      165.11952     0.570337  \n",
            "20     0.2      3779.621146    3086.297775     0.897531  \n",
            "---------------------------------------------------------\n"
          ]
        }
      ],
      "source": [
        "result_pd = pd.DataFrame(columns=['Data', 'epoch', 'learning rate', 'batch size', 'dropout', 'RMSE', 'MAE', 'MAPE'])\n",
        "idx=1\n",
        "flag=True\n",
        "random_seed = 42\n",
        "torch.cuda.manual_seed(random_seed)\n",
        "torch.cuda.manual_seed_all(random_seed) # if use multi-GPU\n",
        "random.seed(random_seed)\n",
        "np.random.seed(random_seed)\n",
        "torch.manual_seed(random_seed)\n",
        "min_val_loss = np.Inf\n",
        "\n",
        "import datetime as dt\n",
        "x = dt.datetime.now()\n",
        "today = f'{x.month}{x.day}-{x.hour}{x.minute}'\n",
        "today\n",
        "\n",
        "epoch_counter_list = [1000]\n",
        "lr_list = [0.01]\n",
        "batch_list  = [128]\n",
        "droppout_list = [0.2]\n",
        "\n",
        "for epoch_counter in epoch_counter_list:\n",
        "    counter = 0\n",
        "    for lr in lr_list:\n",
        "        counter = 0\n",
        "        for batch in batch_list:\n",
        "            counter = 0\n",
        "            for dropout in droppout_list:\n",
        "                counter = 0\n",
        "                if flag==False:\n",
        "                    feature_list=[all_features]\n",
        "                    flag=True\n",
        "                else:\n",
        "                    feature_list=[art_feature, art_feature+economic_feature, art_feature+trend_feature, art_feature+img_features, art_feature+economic_feature+trend_feature, img_features, all_features]\n",
        "                    # feature_list = [art_cols, art_cols+eco_cols, art_cols+trend_cols, art_cols+eco_cols+trend_cols, art_cols+eco_cols+trend_cols+img_features]\n",
        "\n",
        "                for features in feature_list:\n",
        "\n",
        "                    df_train, df_test = time_series()\n",
        "                    df_test = df_test[df_test['price']<1e+8]\n",
        "\n",
        "                    df_train = df_train.reset_index()\n",
        "                    df_test = df_test.reset_index()\n",
        "\n",
        "                    train_feature = df_train[features].to_numpy()\n",
        "                    train_target = np.log10(df_train['price']+1).to_numpy()\n",
        "\n",
        "                    test_feature = df_test[features].to_numpy()\n",
        "                    test_target = np.log10(df_test['price']+1).to_numpy()\n",
        "\n",
        "\n",
        "\n",
        "                    class TensorData(Dataset):\n",
        "\n",
        "                        def __init__(self, x_data, y_data):\n",
        "                            self.x_data = torch.FloatTensor(x_data)\n",
        "                            self.y_data = torch.FloatTensor(y_data)\n",
        "                            self.len = self.y_data.shape[0]\n",
        "\n",
        "                        def __getitem__(self, index):\n",
        "\n",
        "                            return self.x_data[index], self.y_data[index] \n",
        "\n",
        "                        def __len__(self):\n",
        "                            return self.len\n",
        "\n",
        "                    trainsets = TensorData(train_feature, train_target)\n",
        "                    testsets = TensorData(test_feature, test_target)\n",
        "\n",
        "                    trainloader = torch.utils.data.DataLoader(trainsets, batch_size=batch, shuffle=True)\n",
        "                    testloader = torch.utils.data.DataLoader(testsets, batch_size=batch, shuffle=True)\n",
        "\n",
        "                    class Regressor(nn.Module):\n",
        "                        def __init__(self, input_dim, hidden_dim1, hidden_dim2, hidden_dim3, output_dim):\n",
        "                            super().__init__() # 모델 연산 정의\n",
        "                            self.fc1 = nn.Linear(input_dim, hidden_dim1, bias=True) \n",
        "                            self.fc2 = nn.Linear(hidden_dim1, hidden_dim2, bias=True)\n",
        "                            self.fc3 = nn.Linear(hidden_dim2, hidden_dim3, bias=True)\n",
        "                            self.fc4 = nn.Linear(hidden_dim3, output_dim, bias=True)\n",
        "                            self.dropout = nn.Dropout(dropout) \n",
        "\n",
        "                        def forward(self, x): \n",
        "                            x = F.relu(self.fc1(x))\n",
        "                            x = self.dropout(F.relu(self.fc2(x)))\n",
        "                            x = self.dropout(F.relu(self.fc3(x)))\n",
        "                            x = F.leaky_relu(self.fc4(x))\n",
        "\n",
        "                            return x\n",
        "                    input_dim = len(features)\n",
        "                    hidden_dim1 = 1600\n",
        "                    hidden_dim2 = 800\n",
        "                    hidden_dim3 = 400\n",
        "                    output_dim = 1\n",
        "\n",
        "                    model = Regressor(input_dim, hidden_dim1, hidden_dim2, hidden_dim3, output_dim)\n",
        "                    criterion = nn.MSELoss()\n",
        "\n",
        "                    optimizer = optim.Adam(model.parameters(), lr=lr, weight_decay=1e-7)\n",
        "\n",
        "                    loss_ = [] # loss를 저장할 리스트.\n",
        "                    n = len(trainloader)\n",
        "                    n_epochs_stop = 6\n",
        "                    epochs_no_improve=0\n",
        "                    early_stop = False\n",
        "                    for epoch in range(epoch_counter):\n",
        "                        running_loss = 0.0 # 한 에폭이 돌 때 그안에서 배치마다 loss가 나온다. 즉 한번 학습할 때 그렇게 쪼개지면서 loss가 다 나오니 MSE를 구하기 위해서 사용한다.\n",
        "\n",
        "                        for i, data in enumerate(trainloader, 0): # 무작위로 섞인 32개의 데이터가 담긴 배치가 하나씩 들어온다.\n",
        "                            \n",
        "                            inputs, values = data # data에는 X, Y가 들어있다.\n",
        "\n",
        "                            optimizer.zero_grad() # 최적화 초기화.\n",
        "\n",
        "                            outputs = model(inputs) # 모델에 입력값을 넣어 예측값을 산출한다.\n",
        "                            loss = criterion(outputs, values) # 손실함수를 계산. error 계산.\n",
        "                            loss.backward() # 손실 함수를 기준으로 역전파를 설정한다.\n",
        "                            optimizer.step() # 역전파를 진행하고 가중치를 업데이트한다.\n",
        "\n",
        "                            running_loss += loss.item() # epoch 마다 평균 loss를 계산하기 위해 배치 loss를 더한다.\n",
        "                            running_loss = running_loss/len(trainloader)\n",
        "                            if running_loss < min_val_loss:\n",
        "                                # torch.save(model)\n",
        "                                epochs_no_improve = 0\n",
        "                                min_val_loss = running_loss\n",
        "                            else:\n",
        "                                epochs_no_improve += 1\n",
        "\n",
        "                            if epoch>=20 and epochs_no_improve==n_epochs_stop:\n",
        "                                print(f'Early Stopping : {epoch}')\n",
        "                                early_stop=True\n",
        "                                break\n",
        "                        if early_stop:\n",
        "                            break\n",
        "                        loss_.append(running_loss/n) # MSE(Mean Squared Error) 계산\n",
        "\n",
        "                    plt.plot(loss_)\n",
        "                    plt.title('Loss')\n",
        "                    plt.xlabel('epoch')\n",
        "                    plt.show()\n",
        "\n",
        "                    def evaluation(dataloader):\n",
        "\n",
        "                        predictions = torch.tensor([], dtype=torch.float) # 예측값을 저장하는 텐서.\n",
        "                        actual = torch.tensor([], dtype=torch.float) # 실제값을 저장하는 텐서.\n",
        "\n",
        "                        with torch.no_grad():\n",
        "                            model.eval() # 평가를 할 땐 반드시 eval()을 사용해야 한다.\n",
        "\n",
        "                            for data in dataloader:\n",
        "                                inputs, values = data\n",
        "                                outputs = model(inputs)\n",
        "\n",
        "                                predictions = torch.cat((predictions, outputs), 0) # cat함수를 통해 예측값을 누적.\n",
        "                                actual = torch.cat((actual, values), 0) # cat함수를 통해 실제값을 누적.\n",
        "\n",
        "                        predictions = predictions.numpy() # 넘파이 배열로 변경.\n",
        "                        actual = actual.numpy() # 넘파이 배열로 변경.\n",
        "                        rmse = np.sqrt(mean_squared_error(y_true=10**actual, y_pred=10**predictions))*(10**-4) # sklearn을 이용해 RMSE를 계산.\n",
        "                        mae = mean_absolute_error(y_true=10**actual, y_pred=10**predictions)*(10**-4)\n",
        "                        mape = mean_absolute_percentage_error(y_true=10**actual, y_pred=10**predictions)\n",
        "\n",
        "                        return rmse, mae, mape, predictions, actual\n",
        "\n",
        "                    train_rmse,train_mae,train_mape, train_predictions, train_actual = evaluation(trainloader) # 원래는 이렇게 하면 안되지만, 비교를 위해서 train을 넣어서 본다. \n",
        "                    test_rmse,test_mae,test_mape, test_predictions, test_actual = evaluation(testloader)\n",
        "\n",
        "                    predict_df = df_test\n",
        "                    predict_df['predict'] = 10**test_predictions\n",
        "\n",
        "                    price_threshold_1 = 1e+6\n",
        "                    price_threshold_2 = 1e+7\n",
        "                    price_threshold_3 = 1e+8\n",
        "\n",
        "                    predict_df['label'] = 0\n",
        "\n",
        "                    for i in range(len(predict_df)):\n",
        "                        if predict_df['price'][i]<price_threshold_1:\n",
        "                            predict_df['label'][i] = 0\n",
        "                        elif predict_df['price'][i]>=price_threshold_1 and predict_df['price'][i]<price_threshold_2:\n",
        "                            predict_df['label'][i] = 1\n",
        "                        # elif predict_df['price'][i]>=price_threshold_2 and predict_df['price'][i]<price_threshold_3:\n",
        "                        #     predict_df['label'][i] = 2\n",
        "                        else:\n",
        "                            predict_df['label'][i] = 2\n",
        "\n",
        "                    # feature_list=[art_feature, art_feature+economic_feature, art_feature+trend_feature, art_feature+img_features, \n",
        "                    # art_feature+economic_feature+trend_feature, img_features, all_features]\n",
        "                    if features == art_feature:\n",
        "                        data = 'Art'\n",
        "                    elif features == art_feature+economic_feature:\n",
        "                        data = 'Art+Economics'\n",
        "                    elif features == art_feature+trend_feature:\n",
        "                        data = 'Art+Trend'\n",
        "                    elif features == art_feature+img_features:\n",
        "                        data = 'Art+Image'\n",
        "                    elif features == art_feature+economic_feature+trend_feature:\n",
        "                        data = 'Art+Economics+Trend'\n",
        "                    elif features == img_features:\n",
        "                        data = 'Image'\n",
        "                    elif features == art_feature+economic_feature+trend_feature+img_features:\n",
        "                        data = 'ALL'\n",
        "                    else:\n",
        "                        if features == art_cols:\n",
        "                            data = 'ALL_sel'\n",
        "                        elif features == art_cols+eco_cols:\n",
        "                            data = 'Art+Ecnonomics_sel'\n",
        "                        elif features == art_cols+trend_cols:\n",
        "                            data = 'Art+Trend_sel'\n",
        "                        elif features == art_cols+eco_cols+trend_cols:\n",
        "                            data = 'Art+Economics+Trend_sel'\n",
        "                        elif features == art_cols+eco_cols+trend_cols+img_features:\n",
        "                            data = 'ALL_sel'\n",
        "                        else:\n",
        "                            data = 'ALL_unknown'\n",
        "\n",
        "                    \n",
        "                    filename = f'result_{lr}_{batch}_{random_seed}_{today}.csv'\n",
        "                    # if len(feature_list)>6:\n",
        "                    #     filename = f'result_{today}.csv'\n",
        "                    #     if counter == 0:\n",
        "                    #         data = 'Art'\n",
        "                    #     elif counter == 1:\n",
        "                    #         data = 'Art+Economics'\n",
        "                    #     elif counter == 2:\n",
        "                    #         data = 'Art+Trend'\n",
        "                    #     elif counter == 3:\n",
        "                    #         data = 'Art+Image'\n",
        "                    #     elif counter == 4:\n",
        "                    #         data = 'Art+Economics+Trend'\n",
        "                    #     elif counter == 5:\n",
        "                    #         data = 'Image'\n",
        "                    #     else:\n",
        "                    #         data =' ALL'\n",
        "                    # elif len(feature_list)==6:\n",
        "                    #     filename = f'result_{today}.csv'\n",
        "                    #     if counter == 0:\n",
        "                    #         data = 'Art+Economics'\n",
        "                    #     elif counter == 1:\n",
        "                    #         data = 'Art+Trend'\n",
        "                    #     elif counter == 2:\n",
        "                    #         data = 'Art+Image'\n",
        "                    #     elif counter == 3:\n",
        "                    #         data = 'Art+Economics+Trend'\n",
        "                    #     elif counter == 4:\n",
        "                    #         data = 'Image'\n",
        "                    #     else:\n",
        "                    #         data =' ALL'\n",
        "                    # else:\n",
        "                    #     filename = f'result_partial_{today}.csv'\n",
        "                    #     if counter == 0:\n",
        "                    #         data = 'Art'\n",
        "                    #     elif counter == 1:\n",
        "                    #         data = 'Art+Economics'\n",
        "                    #     elif counter == 2:\n",
        "                    #         data = 'Art+Trend'\n",
        "                    #     else:\n",
        "                    #         data = 'Tabular'\n",
        "\n",
        "                        # ['Data', 'epoch', 'learning rate', 'batch size', 'dropout', 'RMSE', 'MAE', 'MAPE']\n",
        "                    result_pd.loc[idx, :] = [data, f'{epoch}/{epoch_counter}', lr, batch, dropout, test_rmse, test_mae, test_mape]\n",
        "                    idx+=1\n",
        "                    counter+=1\n",
        "                    for i in range(3):\n",
        "                        sub_df = predict_df[predict_df['label']==i]\n",
        "                        rmse = np.sqrt(mean_squared_error(sub_df['price'], sub_df['predict']))*(10**-4)\n",
        "                        mae = mean_absolute_error(sub_df['price'], sub_df['predict'])*(10**-4)\n",
        "                        mape = mean_absolute_percentage_error(sub_df['price'], sub_df['predict'])\n",
        "                        print(f'####{i}##### : {rmse}, {mae}, {mape}')\n",
        "                        result_pd.loc[idx, :] = [f'{data}_regression_PC{i+1}', f'{epoch}/{epoch_counter}', lr, batch, dropout, rmse, mae, mape]\n",
        "                        idx+=1\n",
        "                    print(result_pd)\n",
        "                    print('---------------------------------------------------------')\n",
        "                    result_pd.to_csv(f'.{filename}')"
      ]
    }
  ],
  "metadata": {
    "accelerator": "GPU",
    "colab": {
      "machine_shape": "hm",
      "provenance": []
    },
    "gpuClass": "standard",
    "kernelspec": {
      "display_name": "Python 3",
      "name": "python3"
    },
    "language_info": {
      "name": "python"
    }
  },
  "nbformat": 4,
  "nbformat_minor": 0
}