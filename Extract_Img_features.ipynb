{
  "nbformat": 4,
  "nbformat_minor": 0,
  "metadata": {
    "colab": {
      "provenance": []
    },
    "kernelspec": {
      "name": "python3",
      "display_name": "Python 3"
    },
    "language_info": {
      "name": "python"
    },
    "widgets": {
      "application/vnd.jupyter.widget-state+json": {
        "07765678381544b1b019f91ae0350001": {
          "model_module": "@jupyter-widgets/controls",
          "model_name": "HBoxModel",
          "model_module_version": "1.5.0",
          "state": {
            "_dom_classes": [],
            "_model_module": "@jupyter-widgets/controls",
            "_model_module_version": "1.5.0",
            "_model_name": "HBoxModel",
            "_view_count": null,
            "_view_module": "@jupyter-widgets/controls",
            "_view_module_version": "1.5.0",
            "_view_name": "HBoxView",
            "box_style": "",
            "children": [
              "IPY_MODEL_236fdedb07d946058b8d29a64417762c",
              "IPY_MODEL_9a99e37ca8b4488ba5861309a759a4c5",
              "IPY_MODEL_8b70b807c0524d898fe031103ebb1de1"
            ],
            "layout": "IPY_MODEL_81bb13786d0f42fcbe94b863155437b6"
          }
        },
        "236fdedb07d946058b8d29a64417762c": {
          "model_module": "@jupyter-widgets/controls",
          "model_name": "HTMLModel",
          "model_module_version": "1.5.0",
          "state": {
            "_dom_classes": [],
            "_model_module": "@jupyter-widgets/controls",
            "_model_module_version": "1.5.0",
            "_model_name": "HTMLModel",
            "_view_count": null,
            "_view_module": "@jupyter-widgets/controls",
            "_view_module_version": "1.5.0",
            "_view_name": "HTMLView",
            "description": "",
            "description_tooltip": null,
            "layout": "IPY_MODEL_969aa68260de460fbd90f1f1feff1263",
            "placeholder": "​",
            "style": "IPY_MODEL_7d9a00a3266a4f888de0993f9b784c85",
            "value": "100%"
          }
        },
        "9a99e37ca8b4488ba5861309a759a4c5": {
          "model_module": "@jupyter-widgets/controls",
          "model_name": "FloatProgressModel",
          "model_module_version": "1.5.0",
          "state": {
            "_dom_classes": [],
            "_model_module": "@jupyter-widgets/controls",
            "_model_module_version": "1.5.0",
            "_model_name": "FloatProgressModel",
            "_view_count": null,
            "_view_module": "@jupyter-widgets/controls",
            "_view_module_version": "1.5.0",
            "_view_name": "ProgressView",
            "bar_style": "success",
            "description": "",
            "description_tooltip": null,
            "layout": "IPY_MODEL_4f7c694f107d4cc986b61e67ca211f65",
            "max": 553433881,
            "min": 0,
            "orientation": "horizontal",
            "style": "IPY_MODEL_3167cab5bff64862b1abe5d474e69d97",
            "value": 553433881
          }
        },
        "8b70b807c0524d898fe031103ebb1de1": {
          "model_module": "@jupyter-widgets/controls",
          "model_name": "HTMLModel",
          "model_module_version": "1.5.0",
          "state": {
            "_dom_classes": [],
            "_model_module": "@jupyter-widgets/controls",
            "_model_module_version": "1.5.0",
            "_model_name": "HTMLModel",
            "_view_count": null,
            "_view_module": "@jupyter-widgets/controls",
            "_view_module_version": "1.5.0",
            "_view_name": "HTMLView",
            "description": "",
            "description_tooltip": null,
            "layout": "IPY_MODEL_16479c7d12de4031aef2c74e4121b85f",
            "placeholder": "​",
            "style": "IPY_MODEL_8cef1ae2f97a4edc96816e00d42ea6c1",
            "value": " 528M/528M [00:04&lt;00:00, 138MB/s]"
          }
        },
        "81bb13786d0f42fcbe94b863155437b6": {
          "model_module": "@jupyter-widgets/base",
          "model_name": "LayoutModel",
          "model_module_version": "1.2.0",
          "state": {
            "_model_module": "@jupyter-widgets/base",
            "_model_module_version": "1.2.0",
            "_model_name": "LayoutModel",
            "_view_count": null,
            "_view_module": "@jupyter-widgets/base",
            "_view_module_version": "1.2.0",
            "_view_name": "LayoutView",
            "align_content": null,
            "align_items": null,
            "align_self": null,
            "border": null,
            "bottom": null,
            "display": null,
            "flex": null,
            "flex_flow": null,
            "grid_area": null,
            "grid_auto_columns": null,
            "grid_auto_flow": null,
            "grid_auto_rows": null,
            "grid_column": null,
            "grid_gap": null,
            "grid_row": null,
            "grid_template_areas": null,
            "grid_template_columns": null,
            "grid_template_rows": null,
            "height": null,
            "justify_content": null,
            "justify_items": null,
            "left": null,
            "margin": null,
            "max_height": null,
            "max_width": null,
            "min_height": null,
            "min_width": null,
            "object_fit": null,
            "object_position": null,
            "order": null,
            "overflow": null,
            "overflow_x": null,
            "overflow_y": null,
            "padding": null,
            "right": null,
            "top": null,
            "visibility": null,
            "width": null
          }
        },
        "969aa68260de460fbd90f1f1feff1263": {
          "model_module": "@jupyter-widgets/base",
          "model_name": "LayoutModel",
          "model_module_version": "1.2.0",
          "state": {
            "_model_module": "@jupyter-widgets/base",
            "_model_module_version": "1.2.0",
            "_model_name": "LayoutModel",
            "_view_count": null,
            "_view_module": "@jupyter-widgets/base",
            "_view_module_version": "1.2.0",
            "_view_name": "LayoutView",
            "align_content": null,
            "align_items": null,
            "align_self": null,
            "border": null,
            "bottom": null,
            "display": null,
            "flex": null,
            "flex_flow": null,
            "grid_area": null,
            "grid_auto_columns": null,
            "grid_auto_flow": null,
            "grid_auto_rows": null,
            "grid_column": null,
            "grid_gap": null,
            "grid_row": null,
            "grid_template_areas": null,
            "grid_template_columns": null,
            "grid_template_rows": null,
            "height": null,
            "justify_content": null,
            "justify_items": null,
            "left": null,
            "margin": null,
            "max_height": null,
            "max_width": null,
            "min_height": null,
            "min_width": null,
            "object_fit": null,
            "object_position": null,
            "order": null,
            "overflow": null,
            "overflow_x": null,
            "overflow_y": null,
            "padding": null,
            "right": null,
            "top": null,
            "visibility": null,
            "width": null
          }
        },
        "7d9a00a3266a4f888de0993f9b784c85": {
          "model_module": "@jupyter-widgets/controls",
          "model_name": "DescriptionStyleModel",
          "model_module_version": "1.5.0",
          "state": {
            "_model_module": "@jupyter-widgets/controls",
            "_model_module_version": "1.5.0",
            "_model_name": "DescriptionStyleModel",
            "_view_count": null,
            "_view_module": "@jupyter-widgets/base",
            "_view_module_version": "1.2.0",
            "_view_name": "StyleView",
            "description_width": ""
          }
        },
        "4f7c694f107d4cc986b61e67ca211f65": {
          "model_module": "@jupyter-widgets/base",
          "model_name": "LayoutModel",
          "model_module_version": "1.2.0",
          "state": {
            "_model_module": "@jupyter-widgets/base",
            "_model_module_version": "1.2.0",
            "_model_name": "LayoutModel",
            "_view_count": null,
            "_view_module": "@jupyter-widgets/base",
            "_view_module_version": "1.2.0",
            "_view_name": "LayoutView",
            "align_content": null,
            "align_items": null,
            "align_self": null,
            "border": null,
            "bottom": null,
            "display": null,
            "flex": null,
            "flex_flow": null,
            "grid_area": null,
            "grid_auto_columns": null,
            "grid_auto_flow": null,
            "grid_auto_rows": null,
            "grid_column": null,
            "grid_gap": null,
            "grid_row": null,
            "grid_template_areas": null,
            "grid_template_columns": null,
            "grid_template_rows": null,
            "height": null,
            "justify_content": null,
            "justify_items": null,
            "left": null,
            "margin": null,
            "max_height": null,
            "max_width": null,
            "min_height": null,
            "min_width": null,
            "object_fit": null,
            "object_position": null,
            "order": null,
            "overflow": null,
            "overflow_x": null,
            "overflow_y": null,
            "padding": null,
            "right": null,
            "top": null,
            "visibility": null,
            "width": null
          }
        },
        "3167cab5bff64862b1abe5d474e69d97": {
          "model_module": "@jupyter-widgets/controls",
          "model_name": "ProgressStyleModel",
          "model_module_version": "1.5.0",
          "state": {
            "_model_module": "@jupyter-widgets/controls",
            "_model_module_version": "1.5.0",
            "_model_name": "ProgressStyleModel",
            "_view_count": null,
            "_view_module": "@jupyter-widgets/base",
            "_view_module_version": "1.2.0",
            "_view_name": "StyleView",
            "bar_color": null,
            "description_width": ""
          }
        },
        "16479c7d12de4031aef2c74e4121b85f": {
          "model_module": "@jupyter-widgets/base",
          "model_name": "LayoutModel",
          "model_module_version": "1.2.0",
          "state": {
            "_model_module": "@jupyter-widgets/base",
            "_model_module_version": "1.2.0",
            "_model_name": "LayoutModel",
            "_view_count": null,
            "_view_module": "@jupyter-widgets/base",
            "_view_module_version": "1.2.0",
            "_view_name": "LayoutView",
            "align_content": null,
            "align_items": null,
            "align_self": null,
            "border": null,
            "bottom": null,
            "display": null,
            "flex": null,
            "flex_flow": null,
            "grid_area": null,
            "grid_auto_columns": null,
            "grid_auto_flow": null,
            "grid_auto_rows": null,
            "grid_column": null,
            "grid_gap": null,
            "grid_row": null,
            "grid_template_areas": null,
            "grid_template_columns": null,
            "grid_template_rows": null,
            "height": null,
            "justify_content": null,
            "justify_items": null,
            "left": null,
            "margin": null,
            "max_height": null,
            "max_width": null,
            "min_height": null,
            "min_width": null,
            "object_fit": null,
            "object_position": null,
            "order": null,
            "overflow": null,
            "overflow_x": null,
            "overflow_y": null,
            "padding": null,
            "right": null,
            "top": null,
            "visibility": null,
            "width": null
          }
        },
        "8cef1ae2f97a4edc96816e00d42ea6c1": {
          "model_module": "@jupyter-widgets/controls",
          "model_name": "DescriptionStyleModel",
          "model_module_version": "1.5.0",
          "state": {
            "_model_module": "@jupyter-widgets/controls",
            "_model_module_version": "1.5.0",
            "_model_name": "DescriptionStyleModel",
            "_view_count": null,
            "_view_module": "@jupyter-widgets/base",
            "_view_module_version": "1.2.0",
            "_view_name": "StyleView",
            "description_width": ""
          }
        }
      }
    }
  },
  "cells": [
    {
      "cell_type": "code",
      "source": [
        "import pandas as pd\n",
        "import torch\n",
        "from torch import optim, nn\n",
        "from torchvision import models, transforms\n",
        "import torchvision.transforms as T"
      ],
      "metadata": {
        "id": "DPRbEWx5h8CO"
      },
      "execution_count": null,
      "outputs": []
    },
    {
      "cell_type": "code",
      "execution_count": null,
      "metadata": {
        "id": "rqJZNvXRfkg-",
        "colab": {
          "base_uri": "https://localhost:8080/",
          "height": 161,
          "referenced_widgets": [
            "07765678381544b1b019f91ae0350001",
            "236fdedb07d946058b8d29a64417762c",
            "9a99e37ca8b4488ba5861309a759a4c5",
            "8b70b807c0524d898fe031103ebb1de1",
            "81bb13786d0f42fcbe94b863155437b6",
            "969aa68260de460fbd90f1f1feff1263",
            "7d9a00a3266a4f888de0993f9b784c85",
            "4f7c694f107d4cc986b61e67ca211f65",
            "3167cab5bff64862b1abe5d474e69d97",
            "16479c7d12de4031aef2c74e4121b85f",
            "8cef1ae2f97a4edc96816e00d42ea6c1"
          ]
        },
        "outputId": "2ddb8e54-3088-42c0-b83e-7c4678f1d019"
      },
      "outputs": [
        {
          "output_type": "stream",
          "name": "stderr",
          "text": [
            "/usr/local/lib/python3.8/dist-packages/torchvision/models/_utils.py:208: UserWarning: The parameter 'pretrained' is deprecated since 0.13 and may be removed in the future, please use 'weights' instead.\n",
            "  warnings.warn(\n",
            "/usr/local/lib/python3.8/dist-packages/torchvision/models/_utils.py:223: UserWarning: Arguments other than a weight enum or `None` for 'weights' are deprecated since 0.13 and may be removed in the future. The current behavior is equivalent to passing `weights=VGG16_Weights.IMAGENET1K_V1`. You can also use `weights=VGG16_Weights.DEFAULT` to get the most up-to-date weights.\n",
            "  warnings.warn(msg)\n",
            "Downloading: \"https://download.pytorch.org/models/vgg16-397923af.pth\" to /root/.cache/torch/hub/checkpoints/vgg16-397923af.pth\n"
          ]
        },
        {
          "output_type": "display_data",
          "data": {
            "text/plain": [
              "  0%|          | 0.00/528M [00:00<?, ?B/s]"
            ],
            "application/vnd.jupyter.widget-view+json": {
              "version_major": 2,
              "version_minor": 0,
              "model_id": "07765678381544b1b019f91ae0350001"
            }
          },
          "metadata": {}
        }
      ],
      "source": [
        "#https://towardsdatascience.com/image-feature-extraction-using-pytorch-e3b327c3607a\n",
        "# df_train = pd.read_csv('./df_train_image.csv')\n",
        "# df_test = pd.read_csv('./df_test_image.csv')\n",
        "# df_train.drop(axis=1, columns=['classify_3'], inplace=True)\n",
        "# df_test.drop(axis=1, columns=['classify_3'], inplace=True)\n",
        "\n",
        "# df_train = pd.get_dummies(df_train, columns=['genre', 'source'])\n",
        "# df_test = pd.get_dummies(df_test, columns=['genre', 'source'])\n",
        "\n",
        "# df_test['genre_7'] = 0\n",
        "# df_test['genre_3'] = 0\n",
        "# df_test['genre_9'] = 0\n",
        "\n",
        "out_features=10\n",
        "\n",
        "# model = torchvision.models.resnet152(pretrained=False, num_classes = out_features)\n",
        "vgg_model = models.vgg16(pretrained=True)\n",
        "class FeatureExtractor(nn.Module):\n",
        "  def __init__(self, model):\n",
        "    super(FeatureExtractor, self).__init__()\n",
        "    self.features = list(model.features)\n",
        "    self.features = nn.Sequential(*self.features)\n",
        "    self.pooling = model.avgpool\n",
        "    self.flatten = nn.Flatten(start_dim=1, end_dim=-1)\n",
        "    self.fc = model.classifier[0]\n",
        "    self.fc1 = nn.Linear(4096, 10, bias=True) \n",
        "  \n",
        "  def forward(self, x):\n",
        "    out = self.features(x)\n",
        "    out = self.pooling(out)\n",
        "    out = self.flatten(out)\n",
        "    out = self.fc(out)\n",
        "    out = self.fc1(out)\n",
        "    return out \n",
        "\n",
        "new_model = FeatureExtractor(vgg_model)\n",
        "\n",
        "# Change the device to GPU\n",
        "device = torch.device('cuda:0' if torch.cuda.is_available() else \"cpu\")\n",
        "new_model = new_model.to(device)\n",
        "\n",
        "from tqdm import tqdm\n",
        "import numpy as np\n",
        "\n",
        "# Transform the image, so it becomes readable with the model\n",
        "transform = T.Compose([\n",
        "  T.ToPILImage(),\n",
        "  T.CenterCrop(128),\n",
        "  T.Resize(128),\n",
        "  T.ToTensor()                              \n",
        "])\n",
        "\n",
        "# Will contain the feature\n",
        "features = []"
      ]
    },
    {
      "cell_type": "code",
      "source": [
        "new_model"
      ],
      "metadata": {
        "id": "m-uZHbYqftjL",
        "colab": {
          "base_uri": "https://localhost:8080/"
        },
        "outputId": "83a82d5d-7a6c-4141-b695-0955550f131a"
      },
      "execution_count": null,
      "outputs": [
        {
          "output_type": "execute_result",
          "data": {
            "text/plain": [
              "FeatureExtractor(\n",
              "  (features): Sequential(\n",
              "    (0): Conv2d(3, 64, kernel_size=(3, 3), stride=(1, 1), padding=(1, 1))\n",
              "    (1): ReLU(inplace=True)\n",
              "    (2): Conv2d(64, 64, kernel_size=(3, 3), stride=(1, 1), padding=(1, 1))\n",
              "    (3): ReLU(inplace=True)\n",
              "    (4): MaxPool2d(kernel_size=2, stride=2, padding=0, dilation=1, ceil_mode=False)\n",
              "    (5): Conv2d(64, 128, kernel_size=(3, 3), stride=(1, 1), padding=(1, 1))\n",
              "    (6): ReLU(inplace=True)\n",
              "    (7): Conv2d(128, 128, kernel_size=(3, 3), stride=(1, 1), padding=(1, 1))\n",
              "    (8): ReLU(inplace=True)\n",
              "    (9): MaxPool2d(kernel_size=2, stride=2, padding=0, dilation=1, ceil_mode=False)\n",
              "    (10): Conv2d(128, 256, kernel_size=(3, 3), stride=(1, 1), padding=(1, 1))\n",
              "    (11): ReLU(inplace=True)\n",
              "    (12): Conv2d(256, 256, kernel_size=(3, 3), stride=(1, 1), padding=(1, 1))\n",
              "    (13): ReLU(inplace=True)\n",
              "    (14): Conv2d(256, 256, kernel_size=(3, 3), stride=(1, 1), padding=(1, 1))\n",
              "    (15): ReLU(inplace=True)\n",
              "    (16): MaxPool2d(kernel_size=2, stride=2, padding=0, dilation=1, ceil_mode=False)\n",
              "    (17): Conv2d(256, 512, kernel_size=(3, 3), stride=(1, 1), padding=(1, 1))\n",
              "    (18): ReLU(inplace=True)\n",
              "    (19): Conv2d(512, 512, kernel_size=(3, 3), stride=(1, 1), padding=(1, 1))\n",
              "    (20): ReLU(inplace=True)\n",
              "    (21): Conv2d(512, 512, kernel_size=(3, 3), stride=(1, 1), padding=(1, 1))\n",
              "    (22): ReLU(inplace=True)\n",
              "    (23): MaxPool2d(kernel_size=2, stride=2, padding=0, dilation=1, ceil_mode=False)\n",
              "    (24): Conv2d(512, 512, kernel_size=(3, 3), stride=(1, 1), padding=(1, 1))\n",
              "    (25): ReLU(inplace=True)\n",
              "    (26): Conv2d(512, 512, kernel_size=(3, 3), stride=(1, 1), padding=(1, 1))\n",
              "    (27): ReLU(inplace=True)\n",
              "    (28): Conv2d(512, 512, kernel_size=(3, 3), stride=(1, 1), padding=(1, 1))\n",
              "    (29): ReLU(inplace=True)\n",
              "    (30): MaxPool2d(kernel_size=2, stride=2, padding=0, dilation=1, ceil_mode=False)\n",
              "  )\n",
              "  (pooling): AdaptiveAvgPool2d(output_size=(7, 7))\n",
              "  (flatten): Flatten(start_dim=1, end_dim=-1)\n",
              "  (fc): Linear(in_features=25088, out_features=4096, bias=True)\n",
              "  (fc1): Linear(in_features=4096, out_features=10, bias=True)\n",
              ")"
            ]
          },
          "metadata": {},
          "execution_count": 4
        }
      ]
    },
    {
      "cell_type": "code",
      "source": [
        "# Iterate each image\n",
        "for i in range(len(df_train['URL'])):\n",
        "\t# Set the image path\n",
        "    path = df_train['URL'][i]\n",
        "    img = cv2.imread(path)\n",
        "\t# Transform the image\n",
        "    img = transform(img)\n",
        "\t# Reshape the image. PyTorch model reads 4-dimensional tensor\n",
        "\t# [batch_size, channels, width, height]\n",
        "    img = img.reshape(1, 3, 128, 128)\n",
        "    img = img.to(device)\n",
        "\t# We only extract features, so we don't need gradient\n",
        "    with torch.no_grad():\n",
        "\t\t# Extract the feature from the image\n",
        "        feature = new_model(img)\n",
        "\t# Convert to NumPy Array, Reshape it, and save it to features variable\n",
        "    features.append(feature.cpu().detach().numpy().reshape(-1))\n",
        "\n",
        "# Convert to NumPy Array\n",
        "features = np.array(features)"
      ],
      "metadata": {
        "id": "YA0A4iinfvhc"
      },
      "execution_count": null,
      "outputs": []
    },
    {
      "cell_type": "code",
      "source": [
        "df_train_features = pd.DataFrame(features)\n",
        "df_train_features.to_csv('./train_img_features_10.csv')"
      ],
      "metadata": {
        "id": "U-Wd40S4fyWD"
      },
      "execution_count": null,
      "outputs": []
    },
    {
      "cell_type": "code",
      "source": [
        "# Iterate each image\n",
        "test_features = []\n",
        "for i in range(len(df_test['URL'])):\n",
        "\t# Set the image path\n",
        "    path = df_test['URL'][i]\n",
        "    img = cv2.imread(path)\n",
        "\t# Transform the image\n",
        "    img = transform(img)\n",
        "\t# Reshape the image. PyTorch model reads 4-dimensional tensor\n",
        "\t# [batch_size, channels, width, height]\n",
        "    img = img.reshape(1, 3, 128, 128)\n",
        "    img = img.to(device)\n",
        "\t# We only extract features, so we don't need gradient\n",
        "    with torch.no_grad():\n",
        "\t\t# Extract the feature from the image\n",
        "        feature = new_model(img)\n",
        "\t# Convert to NumPy Array, Reshape it, and save it to features variable\n",
        "    test_features.append(feature.cpu().detach().numpy().reshape(-1))\n",
        "\n",
        "# Convert to NumPy Array\n",
        "test_features = np.array(test_features)"
      ],
      "metadata": {
        "id": "52bklJLWf0Ub"
      },
      "execution_count": null,
      "outputs": []
    },
    {
      "cell_type": "code",
      "source": [
        "df_test_features = pd.DataFrame(test_features)\n",
        "df_test_features.to_csv('./test_img_features_10.csv')"
      ],
      "metadata": {
        "id": "fiSsiHXgf3rT"
      },
      "execution_count": null,
      "outputs": []
    }
  ]
}